{
 "cells": [
  {
   "cell_type": "code",
   "execution_count": 27,
   "metadata": {},
   "outputs": [],
   "source": [
    "import numpy as np\n",
    "import scipy.stats\n",
    "import scipy"
   ]
  },
  {
   "cell_type": "code",
   "execution_count": 15,
   "metadata": {},
   "outputs": [],
   "source": [
    "arr = [0.123,0.123,0.231,0.2321,0.2324,23432]"
   ]
  },
  {
   "cell_type": "code",
   "execution_count": null,
   "metadata": {},
   "outputs": [],
   "source": []
  },
  {
   "cell_type": "code",
   "execution_count": null,
   "metadata": {},
   "outputs": [],
   "source": []
  },
  {
   "cell_type": "code",
   "execution_count": null,
   "metadata": {},
   "outputs": [],
   "source": []
  },
  {
   "cell_type": "code",
   "execution_count": null,
   "metadata": {},
   "outputs": [],
   "source": []
  },
  {
   "cell_type": "code",
   "execution_count": null,
   "metadata": {},
   "outputs": [],
   "source": []
  },
  {
   "cell_type": "code",
   "execution_count": null,
   "metadata": {},
   "outputs": [],
   "source": []
  },
  {
   "cell_type": "code",
   "execution_count": null,
   "metadata": {},
   "outputs": [],
   "source": []
  },
  {
   "cell_type": "code",
   "execution_count": 43,
   "metadata": {},
   "outputs": [],
   "source": [
    "def sliding_window(arr_full,setp, size):\n",
    "    step = step\n",
    "    size = size\n",
    "    segmented = []\n",
    "    while i < len(arr_full):\n",
    "        segment = arr_full[i : i + size]\n",
    "        segmented.append(segment)\n",
    "        i += step\n",
    "    return segmented "
   ]
  },
  {
   "cell_type": "code",
   "execution_count": 50,
   "metadata": {},
   "outputs": [],
   "source": [
    "class Features(object):\n",
    "    def __init__(self,arr):\n",
    "        self.arr = np.array(arr)\n",
    "        self.var = np.var(self.arr)\n",
    "        self.mean = np.mean(self.arr)\n",
    "        self.rms = np.sqrt(np.mean(np.square(self.arr)))\n",
    "        self.energy = np.mean(np.square(self.arr))\n",
    "        #self.mcr = self.mean_crossing_rate()\n",
    "        self.aad = np.mean(np.abs(self.arr))\n",
    "        self.kurtosis_val = scipy.stats.kurtosis(self.arr)\n",
    "        #self.zero_crossing_rate = self.zero_crossing_rate_func()\n",
    "        self.skew = scipy.stats.skew(self.arr)\n",
    "#     def mean_crossing_rate(self):\n",
    "#         sums = []\n",
    "#         for i in range(1,len(self.arr)):\n",
    "#             diff=  np.sign(self.arr[i] - self.mean) - np.sign(self.arr[i-1] - self.mean)\n",
    "#             sums.append(np.abs(diff))\n",
    "#         res = np.sum(np.array(sums))/2\n",
    "\n",
    "#     def zero_crossing_rate_func(self):\n",
    "#         sums = []\n",
    "#         for i in range(1,len(self.arr)):\n",
    "#             diff=  np.sign(self.arr[i]) - np.sign(self.arr[i-1])\n",
    "#             sums.append(np.abs(diff))\n",
    "#         res = np.sum(np.array(sums))/2\n",
    "#         return res\n",
    "    \n",
    "    def get_features(self):\n",
    "        return(self.var,\n",
    "        self.mean,\n",
    "        self.rms,\n",
    "        self.energy,\n",
    "        #self.mcr ,\n",
    "        self.aad ,\n",
    "        self.kurtosis_val,\n",
    "        #3self.zero_crossing_rate ,\n",
    "        self.skew)\n",
    "        \n",
    "\n",
    "\n",
    "\n",
    "\n",
    "\n",
    "    "
   ]
  },
  {
   "cell_type": "code",
   "execution_count": 51,
   "metadata": {},
   "outputs": [],
   "source": [
    "feat = Features(arr)"
   ]
  },
  {
   "cell_type": "code",
   "execution_count": 52,
   "metadata": {},
   "outputs": [],
   "source": [
    "features = feat.get_features()"
   ]
  },
  {
   "cell_type": "code",
   "execution_count": 59,
   "metadata": {},
   "outputs": [
    {
     "data": {
      "text/plain": [
       "(0.0029459268750000006,\n",
       " 0.177275,\n",
       " 0.18539782226336965,\n",
       " 0.0343723525,\n",
       " 0.177275,\n",
       " -1.999794639606072,\n",
       " 0.00015402227240254054)"
      ]
     },
     "execution_count": 59,
     "metadata": {},
     "output_type": "execute_result"
    }
   ],
   "source": [
    "features"
   ]
  },
  {
   "cell_type": "code",
   "execution_count": 55,
   "metadata": {},
   "outputs": [],
   "source": []
  },
  {
   "cell_type": "code",
   "execution_count": 58,
   "metadata": {},
   "outputs": [],
   "source": [
    "def gather_features(arr_long):\n",
    "    segmented = sliding_windows(arr_long)\n",
    "    all_feat = []\n",
    "    for seg in segmented:\n",
    "        feat = Features(seg)\n",
    "        features = feat.get_features()\n",
    "        all_feat[append(np.array(features))]\n",
    "    all_feat = np.array(all_feat)\n",
    "    return all_feat"
   ]
  },
  {
   "cell_type": "code",
   "execution_count": null,
   "metadata": {},
   "outputs": [],
   "source": [
    "def svm(input_feat,labels):\n",
    "    pass\n",
    "def decision_tres(input_feat,labels):\n",
    "\n",
    "    pass\n",
    "\n",
    "def svr():\n",
    "    pass\n",
    "\n",
    "def \n",
    "\n",
    "        "
   ]
  }
 ],
 "metadata": {
  "kernelspec": {
   "display_name": "Python 3",
   "language": "python",
   "name": "python3"
  },
  "language_info": {
   "codemirror_mode": {
    "name": "ipython",
    "version": 3
   },
   "file_extension": ".py",
   "mimetype": "text/x-python",
   "name": "python",
   "nbconvert_exporter": "python",
   "pygments_lexer": "ipython3",
   "version": "3.7.1"
  }
 },
 "nbformat": 4,
 "nbformat_minor": 2
}
